{
 "cells": [
  {
   "cell_type": "markdown",
   "metadata": {},
   "source": [
    "# Audio Features Computation   "
   ]
  },
  {
   "cell_type": "markdown",
   "metadata": {},
   "source": [
    "## Overview"
   ]
  },
  {
   "cell_type": "markdown",
   "metadata": {},
   "source": [
    "In this notebook we will be computing the audio features that could be categorized as :\n",
    "### *Time Domaine Features:*\n",
    "- Tempo \n",
    "- Zero Crossing Rate \n",
    "- Root Mean Square \n",
    "### *Frequency Domaine Features:*\n",
    "- Spectral Centroid \n",
    "- Spectral Rolloff \n",
    "- Spectral Bandwidth \n",
    "### *Time-Frequency Domaine Features:*\n",
    "- CENS (Chroma Energy Normalized Statistics)\n",
    "- MFCC (Mel-frequency Cepstral Coefficients) "
   ]
  },
  {
   "cell_type": "markdown",
   "metadata": {},
   "source": [
    "## Importing Libraries"
   ]
  },
  {
   "cell_type": "code",
   "execution_count": 1,
   "metadata": {},
   "outputs": [],
   "source": [
    "import librosa \n",
    "import librosa.display\n",
    "import numpy as np\n",
    "import IPython.display as ipd"
   ]
  },
  {
   "cell_type": "markdown",
   "metadata": {},
   "source": [
    "## Time Domaine Features "
   ]
  },
  {
   "cell_type": "markdown",
   "metadata": {},
   "source": [
    "### *Tempo* "
   ]
  },
  {
   "cell_type": "markdown",
   "metadata": {},
   "source": [
    "Tempo refers to the speed or pace of a piece of music and is measured in beats per minute (BPM). It signifies how fast or slow a musical piece is played. In signal processing, tempo can also refer to the rate or frequency of occurrence of events in a time series.\n"
   ]
  },
  {
   "cell_type": "code",
   "execution_count": 2,
   "metadata": {},
   "outputs": [],
   "source": [
    "def tempo(y_harmonic,sr):\n",
    "    tempo, beat_frames = librosa.beat.beat_track(y=y_harmonic, \n",
    "                                                 sr=sr)\n",
    "    return tempo"
   ]
  },
  {
   "cell_type": "markdown",
   "metadata": {},
   "source": [
    "### *RMS Energy* : Root Mean Square Energy"
   ]
  },
  {
   "cell_type": "markdown",
   "metadata": {},
   "source": [
    "RMS is a measure of the average power of a signal and is calculated by taking the square root of the average of the squared values of the signal. "
   ]
  },
  {
   "cell_type": "code",
   "execution_count": 3,
   "metadata": {},
   "outputs": [],
   "source": [
    "def rms(y):\n",
    "    return librosa.feature.rms(y=y)"
   ]
  },
  {
   "cell_type": "markdown",
   "metadata": {},
   "source": [
    "### *Zero Crossing Rate*"
   ]
  },
  {
   "cell_type": "markdown",
   "metadata": {},
   "source": [
    "The zero crossing rate is a measure of the number of times a signal crosses the zero-axis in a given time frame."
   ]
  },
  {
   "cell_type": "code",
   "execution_count": 4,
   "metadata": {},
   "outputs": [],
   "source": [
    "def zero_crossing_rate(y):\n",
    "    return librosa.feature.zero_crossing_rate(y=y)"
   ]
  },
  {
   "cell_type": "markdown",
   "metadata": {},
   "source": [
    "## Frequency Domaine Features"
   ]
  },
  {
   "cell_type": "markdown",
   "metadata": {},
   "source": [
    "### *Spectral Centroid*\n",
    "\n",
    "The spectral centroid represents the \"center of mass\" of the power spectrum of a signal and indicates where the \"average\" frequency is located. "
   ]
  },
  {
   "cell_type": "code",
   "execution_count": 5,
   "metadata": {},
   "outputs": [],
   "source": [
    "def spectral_centroid(y, sr):\n",
    "    return librosa.feature.spectral_centroid(y=y, \n",
    "                                             sr=sr)"
   ]
  },
  {
   "cell_type": "markdown",
   "metadata": {},
   "source": [
    "### *Spectral Rolloff*\n",
    "\n",
    "Spectral rolloff is the frequency below which a certain percentage of the total spectral energy is contained. "
   ]
  },
  {
   "cell_type": "code",
   "execution_count": 6,
   "metadata": {},
   "outputs": [],
   "source": [
    "def spectral_rolloff(y,sr):\n",
    "    return librosa.feature.spectral_rolloff(y=y, \n",
    "                                            sr=sr)"
   ]
  },
  {
   "cell_type": "markdown",
   "metadata": {},
   "source": [
    "### *Spectral Bandwidth*\n",
    "\n",
    "Spectral bandwidth represents the width of the frequency range that contains a certain portion of the total spectral energy. "
   ]
  },
  {
   "cell_type": "code",
   "execution_count": 7,
   "metadata": {},
   "outputs": [],
   "source": [
    "def spectral_bandwidth(y,sr):\n",
    "    return librosa.feature.spectral_bandwidth(y=y,\n",
    "                                              sr=sr)"
   ]
  },
  {
   "cell_type": "markdown",
   "metadata": {},
   "source": [
    "## Time-Frequency Domain Features"
   ]
  },
  {
   "cell_type": "markdown",
   "metadata": {},
   "source": [
    "### *CENS*: Chroma Energy Normalized Statistics\n",
    "\n",
    "CENS is a representation of musical chroma features that captures the energy distribution across different pitches or musical notes. It normalizes the chroma features to be less sensitive to changes in dynamics and focuses more on the harmonic content of music."
   ]
  },
  {
   "cell_type": "code",
   "execution_count": 8,
   "metadata": {},
   "outputs": [],
   "source": [
    "def chroma(y,sr):\n",
    "    return librosa.feature.chroma_stft(y=y, \n",
    "                                       sr=sr)"
   ]
  },
  {
   "cell_type": "markdown",
   "metadata": {},
   "source": [
    "### *MFCC* : Mel-frequency Cepstral Coefficients\n",
    "\n",
    "MFCCs are a set of coefficients that represent the spectral characteristics of a signal. They are derived from the Fourier transform of a signal's short-time power spectrum, followed by a series of processing steps that mimic human auditory perception."
   ]
  },
  {
   "cell_type": "code",
   "execution_count": 9,
   "metadata": {},
   "outputs": [],
   "source": [
    "def mfcc(y,sr):\n",
    "    return librosa.feature.mfcc(y=y, \n",
    "                                sr=sr,\n",
    "                                n_mfcc=20)\n",
    "                               "
   ]
  },
  {
   "cell_type": "code",
   "execution_count": null,
   "metadata": {},
   "outputs": [],
   "source": []
  }
 ],
 "metadata": {
  "kernelspec": {
   "display_name": "Python 3 (ipykernel)",
   "language": "python",
   "name": "python3"
  },
  "language_info": {
   "codemirror_mode": {
    "name": "ipython",
    "version": 3
   },
   "file_extension": ".py",
   "mimetype": "text/x-python",
   "name": "python",
   "nbconvert_exporter": "python",
   "pygments_lexer": "ipython3",
   "version": "3.11.3"
  }
 },
 "nbformat": 4,
 "nbformat_minor": 2
}
