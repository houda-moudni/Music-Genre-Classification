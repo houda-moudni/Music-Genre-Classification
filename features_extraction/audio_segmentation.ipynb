{
 "cells": [
  {
   "cell_type": "markdown",
   "id": "fb157b3a",
   "metadata": {},
   "source": [
    "# Audio Segmentation: 30s to 3s Clips"
   ]
  },
  {
   "cell_type": "markdown",
   "id": "3baaec8f",
   "metadata": {},
   "source": [
    "## Overview"
   ]
  },
  {
   "cell_type": "markdown",
   "id": "119c51ad",
   "metadata": {},
   "source": [
    "In this notebook we will be dividing each audio from the original dataset into 10 `3s audios` then save them into a new folder"
   ]
  },
  {
   "cell_type": "markdown",
   "id": "f75c7ffa",
   "metadata": {},
   "source": [
    "## Importing libraries"
   ]
  },
  {
   "cell_type": "code",
   "execution_count": 1,
   "id": "c76fd6c4",
   "metadata": {},
   "outputs": [],
   "source": [
    "import librosa\n",
    "import soundfile as sf\n",
    "import os\n",
    "from glob import glob"
   ]
  },
  {
   "cell_type": "markdown",
   "id": "4a3ec2b2",
   "metadata": {},
   "source": [
    "## Dividing the audios"
   ]
  },
  {
   "cell_type": "code",
   "execution_count": null,
   "id": "e492c0f0",
   "metadata": {},
   "outputs": [],
   "source": [
    "input_directory = 'dataset/Audio_30s'\n",
    "output_directory = 'dataset/Audio_3s'"
   ]
  },
  {
   "cell_type": "markdown",
   "id": "8142e644",
   "metadata": {},
   "source": [
    "#### in case the directory path you inserted doesn't exist the directory would be created "
   ]
  },
  {
   "cell_type": "code",
   "execution_count": 11,
   "id": "f02a09b4",
   "metadata": {},
   "outputs": [],
   "source": [
    "def makedir(output_directory):\n",
    "     if not os.path.exists(output_directory):\n",
    "        os.makedirs(output_directory)"
   ]
  },
  {
   "cell_type": "markdown",
   "id": "9de72166",
   "metadata": {},
   "source": [
    "#### Here's an overview of the steps The audio files segmentation takes:\n",
    "- ***File Retrieval***: It collects all .wav files present in the input directory and its subdirectories.\n",
    "- ***Segmentation*** : For each audio file, it extracts segments of the defined duration and number from the audio file.\n",
    "- ***Segment Writing*** : Each segment is saved as a separate .wav file in the specified output directory, labeled with the original file name and a segment index.\n"
   ]
  },
  {
   "cell_type": "code",
   "execution_count": 12,
   "id": "2b19bfee",
   "metadata": {},
   "outputs": [],
   "source": [
    "def audio_segmentation(input_directory,output_directory):\n",
    "\n",
    "    audio_files = glob(os.path.join(input_directory, '**/*.wav'), recursive=True)\n",
    "\n",
    "    segment_duration = 3\n",
    "    num_segments = 10\n",
    "\n",
    "    for file_path in sorted(audio_files):\n",
    "\n",
    "        try:\n",
    "            signal, sr = librosa.load(file_path, sr=None)\n",
    "            duration = librosa.get_duration(y=signal, sr=sr)\n",
    "\n",
    "            frame_indices = librosa.time_to_samples([segment_duration * i for i in range(num_segments + 1)], sr=sr)\n",
    "            segments = [signal[frame_indices[i]:frame_indices[i + 1]] for i in range(num_segments)]\n",
    "\n",
    "            file_name = os.path.basename(file_path)\n",
    "            file_name_without_extension = os.path.splitext(file_name)[0]\n",
    "\n",
    "            for i, segment in enumerate(segments):\n",
    "                output_filename = os.path.join(output_directory, f\"{file_name_without_extension}.{i}.wav\")\n",
    "                with sf.SoundFile(output_filename, 'w', samplerate=sr, channels=len(segment.shape)) as f:\n",
    "                    f.write(segment)\n",
    "        \n",
    "\n",
    "        except (librosa.util.exceptions.ParameterError, FileNotFoundError) as e:\n",
    "            print(f\"Error processing {file_path}: {e}\")\n",
    "\n",
    "    print(f\"All the files have been successfully segmented\") \n"
   ]
  },
  {
   "cell_type": "code",
   "execution_count": 15,
   "id": "9d2755a1",
   "metadata": {},
   "outputs": [
    {
     "name": "stdout",
     "output_type": "stream",
     "text": [
      "All the files have been successfully segmented\n"
     ]
    }
   ],
   "source": [
    "makedir(output_directory)\n",
    "audio_segmentation(input_directory,output_directory)"
   ]
  },
  {
   "cell_type": "code",
   "execution_count": null,
   "id": "4f150825",
   "metadata": {},
   "outputs": [],
   "source": []
  }
 ],
 "metadata": {
  "kernelspec": {
   "display_name": "Python 3 (ipykernel)",
   "language": "python",
   "name": "python3"
  },
  "language_info": {
   "codemirror_mode": {
    "name": "ipython",
    "version": 3
   },
   "file_extension": ".py",
   "mimetype": "text/x-python",
   "name": "python",
   "nbconvert_exporter": "python",
   "pygments_lexer": "ipython3",
   "version": "3.11.3"
  }
 },
 "nbformat": 4,
 "nbformat_minor": 5
}
